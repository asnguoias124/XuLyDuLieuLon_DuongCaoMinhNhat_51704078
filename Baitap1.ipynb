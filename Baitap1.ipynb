{
  "nbformat": 4,
  "nbformat_minor": 0,
  "metadata": {
    "colab": {
      "name": "Untitled0.ipynb",
      "provenance": [],
      "authorship_tag": "ABX9TyO2IgSIO5dMy4VOcX3PTQo0",
      "include_colab_link": true
    },
    "kernelspec": {
      "name": "python3",
      "display_name": "Python 3"
    }
  },
  "cells": [
    {
      "cell_type": "markdown",
      "metadata": {
        "id": "view-in-github",
        "colab_type": "text"
      },
      "source": [
        "<a href=\"https://colab.research.google.com/github/asnguoias124/XuLyDuLieuLon_DuongCaoMinhNhat_51704078/blob/main/Baitap1.ipynb\" target=\"_parent\"><img src=\"https://colab.research.google.com/assets/colab-badge.svg\" alt=\"Open In Colab\"/></a>"
      ]
    },
    {
      "cell_type": "code",
      "metadata": {
        "colab": {
          "base_uri": "https://localhost:8080/"
        },
        "id": "0d7_CIwz2QXO",
        "outputId": "b0dcd80b-4dd0-4d5a-85cc-98b945ae7302"
      },
      "source": [
        "!pip import pyspark"
      ],
      "execution_count": 12,
      "outputs": [
        {
          "output_type": "stream",
          "text": [
            "ERROR: unknown command \"import\"\n"
          ],
          "name": "stdout"
        }
      ]
    },
    {
      "cell_type": "code",
      "metadata": {
        "colab": {
          "base_uri": "https://localhost:8080/"
        },
        "id": "xTGqkwYA5K7Y",
        "outputId": "5e48fadb-b367-41fa-87e7-2c87b8e8461f"
      },
      "source": [
        "!pip install pyspark\r\n",
        "import pyspark\r\n",
        "\r\n",
        "from pyspark import SparkConf, SparkContext\r\n",
        "import collections\r\n",
        "\r\n",
        "conf = SparkConf().setMaster(\"local\").setAppName(\"Word Counting\")\r\n",
        "sc = SparkContext.getOrCreate(conf=conf)\r\n",
        "# BAI 1\r\n",
        "# 1. Tim so nguyen lon nhat\r\n",
        "import random\r\n",
        "int_list = [random.randint(1, 100) for i in range(20)]\r\n",
        "rdd = sc.parallelize(int_list)\r\n",
        "num = rdd.map(lambda i: i)\r\n",
        "max_int = num.reduce(lambda x, y: x > y and x or y)\r\n",
        "print('Array int:', int_list)\r\n",
        "print('Max int:', max_int)"
      ],
      "execution_count": 15,
      "outputs": [
        {
          "output_type": "stream",
          "text": [
            "Requirement already satisfied: pyspark in /usr/local/lib/python3.6/dist-packages (3.0.1)\n",
            "Requirement already satisfied: py4j==0.10.9 in /usr/local/lib/python3.6/dist-packages (from pyspark) (0.10.9)\n",
            "Array int: [74, 6, 95, 69, 31, 49, 48, 15, 99, 80, 69, 57, 63, 24, 77, 35, 5, 31, 8, 72]\n",
            "Max int: 99\n"
          ],
          "name": "stdout"
        }
      ]
    },
    {
      "cell_type": "code",
      "metadata": {
        "colab": {
          "base_uri": "https://localhost:8080/"
        },
        "id": "To67tZyK6mXv",
        "outputId": "d429c062-712f-4575-9ca6-8b49df4cd3a8"
      },
      "source": [
        "# 2. Tìm trung bình của các số\r\n",
        "avg_int = num.reduce(lambda x, y: (x+y)/2)\r\n",
        "print('Avarage int:', avg_int)"
      ],
      "execution_count": 16,
      "outputs": [
        {
          "output_type": "stream",
          "text": [
            "Avarage int: 45.16768264770508\n"
          ],
          "name": "stdout"
        }
      ]
    }
  ]
}